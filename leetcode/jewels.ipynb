{
 "cells": [
  {
   "cell_type": "markdown",
   "metadata": {},
   "source": [
    "# Jewels and Stones\n",
    "\n",
    "This is [problem 771](https://leetcode.com/problems/jewels-and-stones/).\n",
    "\n",
    "**Input**: two strings _jewels_ and _stones_ (of lengths _j_ and _s_)\\\n",
    "**Preconditions**: _jewels_ hasn't repeated characters; _j_, _s_ ≤ 50\\\n",
    "**Output**: the number of characters from _stones_ that occur in _jewels_\n",
    "\n",
    "The following tests include the two examples in the problem statement.\n",
    "LeetCode uses 254 test cases."
   ]
  },
  {
   "cell_type": "code",
   "execution_count": 1,
   "metadata": {},
   "outputs": [],
   "source": [
    "jewels50 = 'abcdefghijklmnopqrstuvwxyzABCDEFGHIJKLMNOPQRSTUVWX'\n",
    "stones50 = 'quite long and pointless text with maybe one jewel'\n",
    "fox      = 'The quick brown fox jumped over the lazy dog'\n",
    "tests = [\n",
    "    # case          jewels          stones          output\n",
    "    ('both empty',  '',             '',             0),\n",
    "    ('some jewels', 'aA',           'aAAbbbb',      3), # example 1\n",
    "    ('no jewels',   'z',            'ZZ',           0), # example 2\n",
    "    ('many stones', 'qwertyuiop',   stones50,       24),\n",
    "    ('both long',   jewels50,       fox,            36)\n",
    "]\n",
    "\n",
    "def test(function) -> None:\n",
    "    for case in tests:\n",
    "        inputs = case[1:-1]\n",
    "        expected = case[-1]\n",
    "        actual = function(*inputs)\n",
    "        if actual != expected:\n",
    "            print(case[0], 'FAILED:', actual, 'instead of', expected)\n",
    "\n",
    "def time(function) -> str:\n",
    "    result = %timeit -qo test(function)\n",
    "    print(f'{result.best * 1e6:.3f}', 'µs')"
   ]
  },
  {
   "cell_type": "markdown",
   "metadata": {},
   "source": [
    "## Version 1\n",
    "For each stone, check if it's a jewel.\n",
    "Complexity: O(_s_ · _j_) due to linear search of each stone in _jewels_."
   ]
  },
  {
   "cell_type": "code",
   "execution_count": 2,
   "metadata": {},
   "outputs": [
    {
     "name": "stdout",
     "output_type": "stream",
     "text": [
      "5.412 µs\n"
     ]
    }
   ],
   "source": [
    "def v1(jewels: str, stones:str) -> int:\n",
    "    counter = 0\n",
    "    for stone in stones:\n",
    "        if stone in jewels:\n",
    "            counter += 1\n",
    "    return counter\n",
    "\n",
    "time(v1)"
   ]
  },
  {
   "cell_type": "markdown",
   "metadata": {
    "lines_to_next_cell": 0
   },
   "source": [
    "The Pythonic one-line version uses the fact that Booleans are 0 and 1 in Python."
   ]
  },
  {
   "cell_type": "code",
   "execution_count": 3,
   "metadata": {
    "lines_to_next_cell": 0
   },
   "outputs": [
    {
     "name": "stdout",
     "output_type": "stream",
     "text": [
      "8.451 µs\n"
     ]
    }
   ],
   "source": [
    "def v1p(jewels: str, stones: str) -> int:\n",
    "    return sum(stone in jewels for stone in stones)\n",
    "\n",
    "time(v1p)"
   ]
  },
  {
   "cell_type": "markdown",
   "metadata": {},
   "source": [
    "Shorter code isn't necessarily faster.\n",
    "\n",
    "## Version 2\n",
    "Put _jewels_ into a hash table to search it in constant time.\n",
    "Complexity: O(_j_) to construct hash table + O(_s_) to search."
   ]
  },
  {
   "cell_type": "code",
   "execution_count": 4,
   "metadata": {
    "lines_to_next_cell": 0
   },
   "outputs": [
    {
     "name": "stdout",
     "output_type": "stream",
     "text": [
      "6.529 µs\n"
     ]
    }
   ],
   "source": [
    "def v2(jewels: str, stones: str) -> int:\n",
    "    jewels = set(jewels)\n",
    "    counter = 0\n",
    "    for stone in stones:\n",
    "        if stone in jewels:\n",
    "            counter += 1\n",
    "    return counter\n",
    "\n",
    "time(v2)"
   ]
  },
  {
   "cell_type": "markdown",
   "metadata": {
    "lines_to_next_cell": 0
   },
   "source": [
    "The extra time to construct the set hasn't paid off."
   ]
  },
  {
   "cell_type": "code",
   "execution_count": 5,
   "metadata": {},
   "outputs": [
    {
     "name": "stdout",
     "output_type": "stream",
     "text": [
      "9.920 µs\n"
     ]
    }
   ],
   "source": [
    "def v2p(jewels: str, stones: str) -> int:\n",
    "    jewels = set(jewels)\n",
    "    return sum(stone in jewels for stone in stones)\n",
    "\n",
    "time(v2p)"
   ]
  },
  {
   "cell_type": "markdown",
   "metadata": {},
   "source": [
    "## Version 3\n",
    "Invert the algorithm: go through *jewels*, count their occurrences in _stones_.\n",
    "Complexity: O(_j_ · _s_) due to linear search of each jewel in _stones_.\n",
    "In version 1 this was the worst-case complexity,\n",
    "while version 3 always does _j_ · _s_ steps."
   ]
  },
  {
   "cell_type": "code",
   "execution_count": 6,
   "metadata": {
    "lines_to_next_cell": 0
   },
   "outputs": [
    {
     "name": "stdout",
     "output_type": "stream",
     "text": [
      "10.904 µs\n"
     ]
    }
   ],
   "source": [
    "def v3(jewels: str, stones: str) -> int:\n",
    "    counter = 0\n",
    "    for jewel in jewels:\n",
    "        counter += stones.count(jewel)\n",
    "    return counter\n",
    "\n",
    "time(v3)"
   ]
  },
  {
   "cell_type": "code",
   "execution_count": 7,
   "metadata": {},
   "outputs": [
    {
     "name": "stdout",
     "output_type": "stream",
     "text": [
      "10.831 µs\n"
     ]
    }
   ],
   "source": [
    "def v3p(jewels: str, stones: str) -> int:\n",
    "    return sum(stones.count(jewel) for jewel in jewels)\n",
    "\n",
    "time(v3)"
   ]
  },
  {
   "cell_type": "markdown",
   "metadata": {},
   "source": [
    "## Version 4\n",
    "Same as version 3, but put _stones_ in a bag (multiset) to only count them once.\n",
    "Complexity: O(_s_) to construct bag + O(_j_) if bag lookup takes constant time."
   ]
  },
  {
   "cell_type": "code",
   "execution_count": 8,
   "metadata": {
    "lines_to_next_cell": 0
   },
   "outputs": [
    {
     "name": "stdout",
     "output_type": "stream",
     "text": [
      "19.640 µs\n"
     ]
    }
   ],
   "source": [
    "from collections import Counter\n",
    "\n",
    "def v4(jewels: str, stones: str) -> int:\n",
    "    bag = Counter(stones)\n",
    "    counter = 0\n",
    "    for jewel in jewels:\n",
    "        counter += bag[jewel]\n",
    "    return counter\n",
    "\n",
    "time(v4)"
   ]
  },
  {
   "cell_type": "markdown",
   "metadata": {
    "lines_to_next_cell": 0
   },
   "source": [
    "I think `Counter` is implemented in Python and `set` in C,\n",
    "which could explain the run-time difference."
   ]
  },
  {
   "cell_type": "code",
   "execution_count": 9,
   "metadata": {},
   "outputs": [
    {
     "name": "stdout",
     "output_type": "stream",
     "text": [
      "22.157 µs\n"
     ]
    }
   ],
   "source": [
    "def v4p(jewels: str, stones: str) -> int:\n",
    "    bag = Counter(stones)\n",
    "    return sum(bag[jewel] for jewel in jewels)\n",
    "\n",
    "time(v4p)"
   ]
  },
  {
   "cell_type": "markdown",
   "metadata": {},
   "source": [
    "## Concluding remarks\n",
    "The first version, the less 'sophisticated' of all,\n",
    "uses no additional memory and is the fastest.\n",
    "\n",
    "For two small inputs (here: 50 characters at most),\n",
    "O(_a_ + _b_) is similar to O(_a_ · _b_) and\n",
    "in practice the former can be actually slower if it involves\n",
    "setting up additional data structures (here: hash tables for sets and bags)."
   ]
  }
 ],
 "metadata": {
  "author": "Michel Wermelinger",
  "jupytext": {
   "formats": "ipynb,src//md",
   "notebook_metadata_filter": "author",
   "text_representation": {
    "extension": ".md",
    "format_name": "markdown",
    "format_version": "1.2",
    "jupytext_version": "1.5.2"
   }
  },
  "kernelspec": {
   "display_name": "Python 3",
   "language": "python",
   "name": "python3"
  },
  "language_info": {
   "codemirror_mode": {
    "name": "ipython",
    "version": 3
   },
   "file_extension": ".py",
   "mimetype": "text/x-python",
   "name": "python",
   "nbconvert_exporter": "python",
   "pygments_lexer": "ipython3",
   "version": "3.7.6"
  }
 },
 "nbformat": 4,
 "nbformat_minor": 4
}
