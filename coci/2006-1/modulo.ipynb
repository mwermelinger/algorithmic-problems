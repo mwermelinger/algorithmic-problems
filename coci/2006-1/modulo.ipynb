{
 "cells": [
  {
   "cell_type": "markdown",
   "metadata": {},
   "source": [
    "# Modulo\n",
    "\n",
    "Given 10 non-negative integers, if we divide each by 42,\n",
    "how many different remainders do we get?"
   ]
  },
  {
   "cell_type": "code",
   "execution_count": 1,
   "metadata": {},
   "outputs": [],
   "source": [
    "from test import test"
   ]
  },
  {
   "cell_type": "markdown",
   "metadata": {},
   "source": [
    "## Official solution\n",
    "\n",
    "As we compute the remainder for each input number,\n",
    "we keep track of which values have already been obtained,\n",
    "so that we don't double-count them.\n",
    "This can be achieved with one Boolean for each possible remainder (0 to 41)\n",
    "and counting only those set to true."
   ]
  },
  {
   "cell_type": "code",
   "execution_count": 2,
   "metadata": {},
   "outputs": [
    {
     "name": "stdout",
     "output_type": "stream",
     "text": [
      "Overwriting modulo.py\n"
     ]
    }
   ],
   "source": [
    "%%writefile modulo.py\n",
    "\n",
    "obtained = [False] * 42\n",
    "for line in range(10):\n",
    "    modulo = int(input()) % 42\n",
    "    obtained[modulo] = True\n",
    "\n",
    "counter = 0\n",
    "for modulo in range(42):\n",
    "    if obtained[modulo]:\n",
    "        counter = counter + 1\n",
    "print(counter)"
   ]
  },
  {
   "cell_type": "code",
   "execution_count": 3,
   "metadata": {},
   "outputs": [
    {
     "name": "stdout",
     "output_type": "stream",
     "text": [
      "Processed modulo/modulo.in.1 in 0.0515975 seconds\n",
      "Processed modulo/modulo.in.10 in 0.0390383 seconds\n",
      "Processed modulo/modulo.in.2 in 0.0383297 seconds\n",
      "Processed modulo/modulo.in.3 in 0.0368173 seconds\n",
      "Processed modulo/modulo.in.4 in 0.0384684 seconds\n",
      "Processed modulo/modulo.in.5 in 0.0429013 seconds\n",
      "Processed modulo/modulo.in.6 in 0.0391 seconds\n",
      "Processed modulo/modulo.in.7 in 0.0362117 seconds\n",
      "Processed modulo/modulo.in.8 in 0.0364514 seconds\n",
      "Processed modulo/modulo.in.9 in 0.0366298 seconds\n"
     ]
    }
   ],
   "source": [
    "test('modulo')"
   ]
  },
  {
   "cell_type": "markdown",
   "metadata": {},
   "source": [
    "### Variations\n",
    "I tend to use the 'anonymous name' `_` when a variable is not referred to.\n",
    "The second part of the algorithm can be shortened with the `count` method:\n",
    "it computes how often a given value occurs in a list."
   ]
  },
  {
   "cell_type": "code",
   "execution_count": 4,
   "metadata": {},
   "outputs": [
    {
     "name": "stdout",
     "output_type": "stream",
     "text": [
      "Overwriting modulo.py\n"
     ]
    }
   ],
   "source": [
    "%%writefile modulo.py\n",
    "\n",
    "obtained = [False] * 42\n",
    "for _ in range(10):\n",
    "    modulo = int(input()) % 42\n",
    "    obtained[modulo] = True\n",
    "print(obtained.count(True))"
   ]
  },
  {
   "cell_type": "code",
   "execution_count": 5,
   "metadata": {},
   "outputs": [
    {
     "name": "stdout",
     "output_type": "stream",
     "text": [
      "Processed modulo/modulo.in.1 in 0.0450986 seconds\n",
      "Processed modulo/modulo.in.10 in 0.0403778 seconds\n",
      "Processed modulo/modulo.in.2 in 0.0405174 seconds\n",
      "Processed modulo/modulo.in.3 in 0.038336 seconds\n",
      "Processed modulo/modulo.in.4 in 0.0377915 seconds\n",
      "Processed modulo/modulo.in.5 in 0.0386424 seconds\n",
      "Processed modulo/modulo.in.6 in 0.0391518 seconds\n",
      "Processed modulo/modulo.in.7 in 0.0389665 seconds\n",
      "Processed modulo/modulo.in.8 in 0.0369572 seconds\n",
      "Processed modulo/modulo.in.9 in 0.0375462 seconds\n"
     ]
    }
   ],
   "source": [
    "test('modulo')"
   ]
  },
  {
   "cell_type": "markdown",
   "metadata": {},
   "source": [
    "A slightly more efficient version doesn't iterate over all 42 Booleans to count those true.\n",
    "As each remainder is computed, we increment the counter if it wasn't computed before."
   ]
  },
  {
   "cell_type": "code",
   "execution_count": 6,
   "metadata": {},
   "outputs": [
    {
     "name": "stdout",
     "output_type": "stream",
     "text": [
      "Overwriting modulo.py\n"
     ]
    }
   ],
   "source": [
    "%%writefile modulo.py\n",
    "\n",
    "obtained = [False] * 42\n",
    "counter = 0\n",
    "for _ in range(10):\n",
    "    modulo = int(input()) % 42\n",
    "    if not obtained[modulo]:\n",
    "        counter = counter + 1\n",
    "        obtained[modulo] = True\n",
    "print(counter)"
   ]
  },
  {
   "cell_type": "code",
   "execution_count": 7,
   "metadata": {},
   "outputs": [
    {
     "name": "stdout",
     "output_type": "stream",
     "text": [
      "Processed modulo/modulo.in.1 in 0.0425428 seconds\n",
      "Processed modulo/modulo.in.10 in 0.0408694 seconds\n",
      "Processed modulo/modulo.in.2 in 0.0413464 seconds\n",
      "Processed modulo/modulo.in.3 in 0.0372812 seconds\n",
      "Processed modulo/modulo.in.4 in 0.0349384 seconds\n",
      "Processed modulo/modulo.in.5 in 0.0398616 seconds\n",
      "Processed modulo/modulo.in.6 in 0.0384453 seconds\n",
      "Processed modulo/modulo.in.7 in 0.0389837 seconds\n",
      "Processed modulo/modulo.in.8 in 0.0380892 seconds\n",
      "Processed modulo/modulo.in.9 in 0.035624 seconds\n"
     ]
    }
   ],
   "source": [
    "test('modulo')"
   ]
  },
  {
   "cell_type": "markdown",
   "metadata": {},
   "source": [
    "## Sets\n",
    "\n",
    "The distinct remainder values form a set, a collection of items without duplicates.\n",
    "Python has a built-in data type for sets.\n",
    "We simply add each computed remainder to the initially empty set;\n",
    "adding a duplicate is automatically ignored.\n",
    "Finally, we compute the size of the set with the `len` function."
   ]
  },
  {
   "cell_type": "code",
   "execution_count": 8,
   "metadata": {},
   "outputs": [
    {
     "name": "stdout",
     "output_type": "stream",
     "text": [
      "Overwriting modulo.py\n"
     ]
    }
   ],
   "source": [
    "%%writefile modulo.py\n",
    "\n",
    "obtained = set()\n",
    "for _ in range(10):\n",
    "    obtained.add(int(input()) % 42)\n",
    "print(len(obtained))"
   ]
  },
  {
   "cell_type": "code",
   "execution_count": 9,
   "metadata": {},
   "outputs": [
    {
     "name": "stdout",
     "output_type": "stream",
     "text": [
      "Processed modulo/modulo.in.1 in 0.039814 seconds\n",
      "Processed modulo/modulo.in.10 in 0.0393989 seconds\n",
      "Processed modulo/modulo.in.2 in 0.03715 seconds\n",
      "Processed modulo/modulo.in.3 in 0.0381538 seconds\n",
      "Processed modulo/modulo.in.4 in 0.0374309 seconds\n",
      "Processed modulo/modulo.in.5 in 0.0371237 seconds\n",
      "Processed modulo/modulo.in.6 in 0.037379 seconds\n",
      "Processed modulo/modulo.in.7 in 0.0366891 seconds\n",
      "Processed modulo/modulo.in.8 in 0.0375408 seconds\n",
      "Processed modulo/modulo.in.9 in 0.0376264 seconds\n"
     ]
    }
   ],
   "source": [
    "test('modulo')"
   ]
  },
  {
   "cell_type": "markdown",
   "metadata": {},
   "source": [
    "With set comprehensions, the above code can be written in a single line."
   ]
  },
  {
   "cell_type": "code",
   "execution_count": 10,
   "metadata": {},
   "outputs": [
    {
     "name": "stdout",
     "output_type": "stream",
     "text": [
      "Overwriting modulo.py\n"
     ]
    }
   ],
   "source": [
    "%%writefile modulo.py\n",
    "\n",
    "print(len({int(input()) % 42 for _ in range(10)}))"
   ]
  },
  {
   "cell_type": "code",
   "execution_count": 11,
   "metadata": {},
   "outputs": [
    {
     "name": "stdout",
     "output_type": "stream",
     "text": [
      "Processed modulo/modulo.in.1 in 0.0439734 seconds\n",
      "Processed modulo/modulo.in.10 in 0.0359285 seconds\n",
      "Processed modulo/modulo.in.2 in 0.0373357 seconds\n",
      "Processed modulo/modulo.in.3 in 0.0382924 seconds\n",
      "Processed modulo/modulo.in.4 in 0.0373134 seconds\n",
      "Processed modulo/modulo.in.5 in 0.0380253 seconds\n",
      "Processed modulo/modulo.in.6 in 0.037581 seconds\n",
      "Processed modulo/modulo.in.7 in 0.0373775 seconds\n",
      "Processed modulo/modulo.in.8 in 0.0376493 seconds\n",
      "Processed modulo/modulo.in.9 in 0.0373065 seconds\n"
     ]
    }
   ],
   "source": [
    "test('modulo')"
   ]
  },
  {
   "cell_type": "markdown",
   "metadata": {},
   "source": [
    "## Concluding remarks\n",
    "\n",
    "Due to the small input size, just 10 integers,\n",
    "neither solution is substantially faster than the others.\n",
    "When a set can only contain a very small number of integers,\n",
    "in this case at most 10 of the 42 different remainders,\n",
    "a Boolean list is usually faster and uses less memory than the set type."
   ]
  }
 ],
 "metadata": {
  "jupytext": {
   "formats": "ipynb,md"
  },
  "kernelspec": {
   "display_name": "Python 3",
   "language": "python",
   "name": "python3"
  },
  "language_info": {
   "codemirror_mode": {
    "name": "ipython",
    "version": 3
   },
   "file_extension": ".py",
   "mimetype": "text/x-python",
   "name": "python",
   "nbconvert_exporter": "python",
   "pygments_lexer": "ipython3",
   "version": "3.8.5"
  }
 },
 "nbformat": 4,
 "nbformat_minor": 4
}
