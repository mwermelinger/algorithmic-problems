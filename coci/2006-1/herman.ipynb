{
 "cells": [
  {
   "cell_type": "markdown",
   "metadata": {},
   "source": [
    "# Herman\n",
    "\n",
    "This problem asks for the area of a circle\n",
    "when the radius is the Euclidean distance (length of a straight line) and\n",
    "when it is the Manhattan distance (vertical and horizontal displacement)."
   ]
  },
  {
   "cell_type": "code",
   "execution_count": 1,
   "metadata": {},
   "outputs": [],
   "source": [
    "from test import test"
   ]
  },
  {
   "cell_type": "markdown",
   "metadata": {},
   "source": [
    "## Official solution\n",
    "\n",
    "In Euclidean geometry, the area of a circle with radius $r$ is $\\pi r^2$.\n",
    "\n",
    "To find out the area for Manhattan geometry,\n",
    "let's draw all the points that are at the same distance from the centre,\n",
    "by going first up or down, and then right or left,\n",
    "for a total of $r = 2$ units. We get a square:\n",
    "\n",
    "![square of 'radius' 2](square.png)\n",
    "\n",
    "Points marked '2+0' are two vertical units and zero horizontal units\n",
    "from the centre _C_. Points marked '1+1' are also 2 units away from _C_,\n",
    "but this time one vertical unit and one horizontal unit.\n",
    "\n",
    "Using Pythagoras' theorem,\n",
    "the side of the square is $\\sqrt{r^2 + r ^2} = \\sqrt{2r^2}$,\n",
    "and the area is the square of that: $2r^2$."
   ]
  },
  {
   "cell_type": "code",
   "execution_count": 2,
   "metadata": {},
   "outputs": [],
   "source": [
    "%%writefile herman.py\n",
    "\n",
    "from math import pi\n",
    "\n",
    "radius = int(input())\n",
    "print(f'{pi * radius * radius:.6f}')\n",
    "print(f'{2 * radius * radius:.6f}')"
   ]
  },
  {
   "cell_type": "code",
   "execution_count": 3,
   "metadata": {},
   "outputs": [
    {
     "name": "stdout",
     "output_type": "stream",
     "text": [
      "Processed herman/herman.in.1 in 0.0447976 seconds\n",
      "Processed herman/herman.in.10 in 0.0449957 seconds\n",
      "Processed herman/herman.in.2 in 0.0389937 seconds\n",
      "Processed herman/herman.in.3 in 0.0380185 seconds\n",
      "Processed herman/herman.in.4 in 0.0390748 seconds\n",
      "Processed herman/herman.in.5 in 0.040617 seconds\n",
      "Processed herman/herman.in.6 in 0.0410434 seconds\n",
      "Processed herman/herman.in.7 in 0.0380011 seconds\n",
      "Processed herman/herman.in.8 in 0.0392768 seconds\n",
      "Processed herman/herman.in.9 in 0.0386682 seconds\n"
     ]
    }
   ],
   "source": [
    "test('herman')"
   ]
  },
  {
   "cell_type": "markdown",
   "metadata": {},
   "source": [
    "### Variation\n",
    "\n",
    "The test files have exactly 6 decimal digits, but printing without any\n",
    "formatting would be acceptable too: as the task mentions,\n",
    "results differing by at most $10^{-6}$ are accepted."
   ]
  }
 ],
 "metadata": {
  "jupytext": {
   "formats": "ipynb,md"
  },
  "kernelspec": {
   "display_name": "Python 3",
   "language": "python",
   "name": "python3"
  },
  "language_info": {
   "codemirror_mode": {
    "name": "ipython",
    "version": 3
   },
   "file_extension": ".py",
   "mimetype": "text/x-python",
   "name": "python",
   "nbconvert_exporter": "python",
   "pygments_lexer": "ipython3",
   "version": "3.8.5"
  }
 },
 "nbformat": 4,
 "nbformat_minor": 4
}
